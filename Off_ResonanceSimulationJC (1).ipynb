{
  "nbformat": 4,
  "nbformat_minor": 0,
  "metadata": {
    "kernelspec": {
      "display_name": "Python 3",
      "language": "python",
      "name": "python3"
    },
    "language_info": {
      "codemirror_mode": {
        "name": "ipython",
        "version": 3
      },
      "file_extension": ".py",
      "mimetype": "text/x-python",
      "name": "python",
      "nbconvert_exporter": "python",
      "pygments_lexer": "ipython3",
      "version": "3.8.5"
    },
    "colab": {
      "provenance": []
    }
  },
  "cells": [
    {
      "cell_type": "markdown",
      "metadata": {
        "id": "tiHHZu71Ug8U"
      },
      "source": [
        "##**Signal processing for Diffusion-weighted MR**\n",
        "#*Journal Club : EPI Distortions*"
      ]
    },
    {
      "cell_type": "code",
      "metadata": {
        "id": "YDHLbbJrk96H"
      },
      "source": [
        "%matplotlib inline\n",
        "import numpy as np\n",
        "import matplotlib.pyplot as plt\n",
        "from IPython.display import display, Image\n",
        "import matplotlib.image as mpimg\n",
        "from os.path import dirname, join as pjoin\n",
        "import scipy.io as sio\n",
        "from scipy import signal\n",
        "import pywt as wt\n",
        "from skimage.data import shepp_logan_phantom\n",
        "\n",
        "font = {'weight' : 'normal',\n",
        "        'size'   : 18}\n",
        "\n",
        "np.set_printoptions(precision=2)\n",
        "np.set_printoptions(suppress=True)\n"
      ],
      "execution_count": 1,
      "outputs": []
    },
    {
      "cell_type": "markdown",
      "metadata": {
        "id": "pSaHDkqVk96M"
      },
      "source": [
        "## Geometric Distortions:\n"
      ]
    },
    {
      "cell_type": "code",
      "metadata": {
        "id": "2f9o7X7Em1UA"
      },
      "source": [
        "# Simulate Shepp Logan Phantom and separate fat and water\n",
        "data_dir = \"/content/\"\n",
        "mat_fname = pjoin(data_dir, 'shepplogan.mat')\n",
        "mat_contents = sio.loadmat(mat_fname)\n",
        "mat_contents\n",
        "f = mat_contents['shepp']\n",
        "\n",
        "# Fat mask\n",
        "f_fat = np.zeros([256,256])\n",
        "f_fat[f>0.8] = f[f>0.8]\n",
        "\n",
        "# Water mask\n",
        "f_water = np.zeros([256,256])\n",
        "f_water[f<=0.8] = f[f<=0.8]\n",
        "\n",
        "sx = len(f)\n",
        "sy = len(f[:])\n",
        "fig, (ax1, ax2) = plt.subplots(1, 2, figsize=(8,8))\n",
        "ax1.imshow(f_fat)\n",
        "ax2.imshow(f_water)"
      ],
      "execution_count": null,
      "outputs": []
    },
    {
      "cell_type": "markdown",
      "metadata": {
        "id": "zP9EwK_6ZZAm"
      },
      "source": [
        "**Generate a B0 Field Map With Off-Resonance Effects**"
      ]
    },
    {
      "cell_type": "code",
      "metadata": {
        "id": "sGbGGZoWsUSv"
      },
      "source": [
        "x, y = np.meshgrid(np.linspace(-1,1,256), np.linspace(-1,1,256))\n",
        "d = np.sqrt(x*x+y*y)\n",
        "sigma, mu = 1.0, 0.0\n",
        "a = 100              # Scale to increase/decrease off-resonance effects\n",
        "#a = 1000\n",
        "g = a*np.exp(-( (d-mu)**2 / ( 2.0 * sigma**2 ) ) )\n",
        "\n",
        "print(\"2D Gaussian-like array:\")\n",
        "plt.figure(figsize=(17,7))\n",
        "plt.rc('font', **font)\n",
        "plt.subplot(1,2,1)\n",
        "plt.imshow(g,vmin=0,vmax=256)\n",
        "plt.title('B0 map')"
      ],
      "execution_count": null,
      "outputs": []
    },
    {
      "cell_type": "markdown",
      "metadata": {
        "id": "n8a7zdZ3GF6Q"
      },
      "source": [
        "**EPI Signal Model**\n",
        "\n",
        "$s[m,n] = \\int_x \\int_y \\rho(x,y) e^{i 2 \\pi u_m x}  e^{i 2 \\pi v_n y}  e^{i 2 \\pi g(x,y) \\Delta T n }   dx dy $"
      ]
    },
    {
      "cell_type": "code",
      "metadata": {
        "id": "2CYw45zyHCr2"
      },
      "source": [
        "# Calculate EPI signal, acquire kspace, and convert back to image space\n",
        "\n",
        "nx = 256            # Readout steps\n",
        "ny = 256            # Phase-encoding steps\n",
        "dT = 500e-6         # Echo Spacing\n",
        "\n",
        "ksp = np.zeros([nx,ny]) + 1j*np.zeros([nx,ny])\n",
        "for n in range(0,ny):\n",
        "  curf = f*np.exp(1j*2*np.pi*g*dT*(n));\n",
        "  curhatf = np.fft.fftshift(np.fft.fft2(np.fft.fftshift(curf)));\n",
        "  ksp[:,n] = curhatf[:,n];\n",
        "\n",
        "f2 = np.fft.fftshift(np.fft.ifft2(np.fft.fftshift(ksp)));\n",
        "plt.imshow(np.abs(np.concatenate((f,f2),axis=1)))"
      ],
      "execution_count": null,
      "outputs": []
    },
    {
      "cell_type": "code",
      "metadata": {
        "id": "KcWCdVCdL2JV"
      },
      "source": [
        "# Same as above, but with fat signal only\n",
        "\n",
        "nx = 256\n",
        "ny = 256\n",
        "dT = 500e-6\n",
        "\n",
        "ksp = np.zeros([nx,ny]) + 1j*np.zeros([nx,ny])\n",
        "for n in range(0,ny):\n",
        "  curf = f_fat*np.exp(1j*2*np.pi*g*dT*(n));\n",
        "  curhatf = np.fft.fftshift(np.fft.fft2(np.fft.fftshift(curf)));\n",
        "  ksp[:,n] = curhatf[:,n];\n",
        "\n",
        "f2 = np.fft.fftshift(np.fft.ifft2(np.fft.fftshift(ksp)));\n",
        "plt.imshow(np.abs(np.concatenate((f_fat,f2),axis=1)))"
      ],
      "execution_count": null,
      "outputs": []
    },
    {
      "cell_type": "code",
      "metadata": {
        "id": "mSEUnH2aNAkW"
      },
      "source": [
        "# Same as above, water signal only\n",
        "\n",
        "nx = 256\n",
        "ny = 256\n",
        "dT = 500e-6\n",
        "\n",
        "ksp = np.zeros([nx,ny]) + 1j*np.zeros([nx,ny])\n",
        "for n in range(0,ny):\n",
        "    curf = f_water*np.exp(1j*2*np.pi*g*dT*(n));\n",
        "    curhatf = np.fft.fftshift(np.fft.fft2(np.fft.fftshift(curf)));\n",
        "    ksp[:,n] = curhatf[:,n];\n",
        "\n",
        "f2 = np.fft.fftshift(np.fft.ifft2(np.fft.fftshift(ksp)));\n",
        "plt.imshow(np.abs(np.concatenate((f_water,f2),axis=1)))\n",
        "plt.show()"
      ],
      "execution_count": null,
      "outputs": []
    },
    {
      "cell_type": "markdown",
      "metadata": {
        "id": "ZOGZMcbsmL_i"
      },
      "source": [
        "**Change Phase Encoding Direction to A/P**"
      ]
    },
    {
      "cell_type": "code",
      "metadata": {
        "id": "R06Ap0hUmIUm"
      },
      "source": [
        "nx = 256            # Readout steps\n",
        "ny = 256            # Phase-encoding steps\n",
        "dT = 500e-6         # Echo Spacing\n",
        "\n",
        "ksp = np.zeros([nx,ny]) + 1j*np.zeros([nx,ny])\n",
        "for n in range(0,ny):\n",
        "  curf = f*np.exp(1j*2*np.pi*g*dT*(n));\n",
        "  curhatf = np.fft.fftshift(np.fft.fft2(np.fft.fftshift(curf)));\n",
        "  ksp[n,:] = curhatf[n,:];\n",
        "\n",
        "f2 = np.fft.fftshift(np.fft.ifft2(np.fft.fftshift(ksp)));\n",
        "plt.imshow(np.abs(np.concatenate((f ,f2),axis=1)))"
      ],
      "execution_count": null,
      "outputs": []
    },
    {
      "cell_type": "markdown",
      "metadata": {
        "id": "8qgafX_smICM"
      },
      "source": [
        " **Increase/Decrease Echo Spacing**\n"
      ]
    },
    {
      "cell_type": "code",
      "metadata": {
        "id": "Jb_e451gm0Kk"
      },
      "source": [
        "nx = 256            # Readout steps\n",
        "ny = 256            # Phase-encoding steps\n",
        "dT = 250e-6         # Echo Spacing\n",
        "\n",
        "ksp = np.zeros([nx,ny]) + 1j*np.zeros([nx,ny])\n",
        "for n in range(0,ny):\n",
        "  curf = f*np.exp(1j*2*np.pi*g*dT*(n));\n",
        "  curhatf = np.fft.fftshift(np.fft.fft2(np.fft.fftshift(curf)));\n",
        "  ksp[:,n] = curhatf[:,n];\n",
        "\n",
        "f2 = np.fft.fftshift(np.fft.ifft2(np.fft.fftshift(ksp)));\n",
        "plt.imshow(np.abs(np.concatenate((f ,f2),axis=1)))"
      ],
      "execution_count": null,
      "outputs": []
    },
    {
      "cell_type": "markdown",
      "metadata": {
        "id": "MTQuTsAdnMkn"
      },
      "source": [
        "**Undersample k-space**"
      ]
    },
    {
      "cell_type": "code",
      "metadata": {
        "id": "YOG_8JABnVQi"
      },
      "source": [
        "nx = 256            # Readout steps\n",
        "ny = 256            # Phase-encoding steps\n",
        "dT = 250e-6         # Echo Spacing\n",
        "\n",
        "ksp = np.zeros([nx,ny]) + 1j*np.zeros([nx,ny])\n",
        "for n in range(0,ny):\n",
        "  if np.mod(n,2)==1:\n",
        "    curf = f*np.exp(1j*2*np.pi*g*dT*(n));\n",
        "    curhatf = np.fft.fftshift(np.fft.fft2(np.fft.fftshift(curf)));\n",
        "    ksp[:,n] = curhatf[:,n];\n",
        " \n",
        "f2 = np.fft.fftshift(np.fft.ifft2(np.fft.fftshift(ksp)));\n",
        "plt.imshow(np.abs(np.concatenate((f ,f2),axis=1)))"
      ],
      "execution_count": null,
      "outputs": []
    },
    {
      "cell_type": "markdown",
      "metadata": {
        "id": "G7F0S14RkUbn"
      },
      "source": [
        "## Chemical Shift Artifacts"
      ]
    },
    {
      "cell_type": "code",
      "metadata": {
        "id": "10zepIiUwZpp"
      },
      "source": [
        "nx = 256\n",
        "ny = 256\n",
        "dT = 500e-6\n",
        "ppm = 3.3e-6\n",
        "gamma = 42.57e6\n",
        "B0 = 3\n",
        "freq_offset = ppm*gamma*B0    #Chemical Shift @3T\n",
        "\n",
        "ksp = np.zeros([nx,ny]) + 1j*np.zeros([nx,ny])\n",
        "kspw = np.zeros([nx,ny]) + 1j*np.zeros([nx,ny])\n",
        "for n in range(0,ny):\n",
        "  curf = f_fat*np.exp(1j*2*np.pi*freq_offset*dT*(n));\n",
        "  curhatf = np.fft.fftshift(np.fft.fft2(np.fft.fftshift(curf)));  # Fat signal with shift\n",
        "  ksp[:,n] = curhatf[:,n];\n",
        "  curfw = f_water*np.exp(1j*2*np.pi*dT*(n));\n",
        "  curhatfw = np.fft.fftshift(np.fft.fft2(np.fft.fftshift(curf))); # Water signal\n",
        "  kspw[:,n] = curhatfw[:,n];\n",
        "\n",
        "f2 = np.fft.fftshift(np.fft.ifft2(np.fft.fftshift(ksp)));\n",
        "f2 = np.fft.fftshift(np.fft.ifft2(np.fft.fftshift(kspw)));\n",
        "\n",
        "fig, ax = plt.subplots()\n",
        "ax.imshow(f_water)\n",
        "ax.imshow(np.abs(f2), alpha = 0.4)"
      ],
      "execution_count": null,
      "outputs": []
    }
  ]
}